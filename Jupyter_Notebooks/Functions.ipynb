{
 "cells": [
  {
   "cell_type": "markdown",
   "metadata": {},
   "source": [
    "# Funktionen \n",
    "\n",
    "DRY - Don't Repeat Yourself\n",
    "\n",
    "- An ISBN should be 17 characters long\n",
    "- An ISBN should have 4 dashes\n",
    "- An ISBN should only contain dashes and numbers"
   ]
  },
  {
   "cell_type": "code",
   "execution_count": 1,
   "metadata": {},
   "outputs": [
    {
     "name": "stdout",
     "output_type": "stream",
     "text": [
      "Blub\n"
     ]
    }
   ],
   "source": [
    "# Genutzte Funktionen\n",
    "print(\"Blub\")"
   ]
  },
  {
   "cell_type": "code",
   "execution_count": 2,
   "metadata": {},
   "outputs": [
    {
     "data": {
      "text/plain": [
       "str"
      ]
     },
     "execution_count": 2,
     "metadata": {},
     "output_type": "execute_result"
    }
   ],
   "source": [
    "type(\"Blub\")"
   ]
  },
  {
   "cell_type": "code",
   "execution_count": 3,
   "metadata": {},
   "outputs": [],
   "source": [
    "my_string = \"Blub\""
   ]
  },
  {
   "cell_type": "code",
   "execution_count": 5,
   "metadata": {},
   "outputs": [
    {
     "data": {
      "text/plain": [
       "'BLUB'"
      ]
     },
     "execution_count": 5,
     "metadata": {},
     "output_type": "execute_result"
    }
   ],
   "source": [
    "# Methoden (spezielle Funktionen, die an Objekte geknüpft sind)\n",
    "my_string.upper()"
   ]
  },
  {
   "cell_type": "markdown",
   "metadata": {},
   "source": [
    "Requirement for an ISBN\n",
    "\n",
    "- An ISBN should be 17 characters long\n",
    "- An ISBN should have 4 dashes\n",
    "- An ISBN should only contain dashes and numbers\n"
   ]
  },
  {
   "cell_type": "code",
   "execution_count": 6,
   "metadata": {},
   "outputs": [],
   "source": [
    "potential_isbns = [\"978-3-86226-468-5\", # proper ISBN\n",
    "                   \"AB-423-2343\", # not a proper ISBN\n",
    "                   \"978-3-XXXXX-468-5\"] # not a proper ISBN but pretty close"
   ]
  },
  {
   "cell_type": "code",
   "execution_count": 7,
   "metadata": {},
   "outputs": [],
   "source": [
    "isbn_1 = potential_isbns[0]"
   ]
  },
  {
   "cell_type": "code",
   "execution_count": 8,
   "metadata": {},
   "outputs": [
    {
     "data": {
      "text/plain": [
       "'978-3-86226-468-5'"
      ]
     },
     "execution_count": 8,
     "metadata": {},
     "output_type": "execute_result"
    }
   ],
   "source": [
    "isbn_1"
   ]
  },
  {
   "cell_type": "code",
   "execution_count": 9,
   "metadata": {},
   "outputs": [],
   "source": [
    "def is_isbn():\n",
    "    print(\"testing if correct ISBN\")\n",
    "    "
   ]
  },
  {
   "cell_type": "code",
   "execution_count": 10,
   "metadata": {
    "scrolled": true
   },
   "outputs": [
    {
     "name": "stdout",
     "output_type": "stream",
     "text": [
      "testing if correct ISBN\n"
     ]
    }
   ],
   "source": [
    "# Define the function \n",
    "def is_isbn():\n",
    "    print(\"testing if correct ISBN\")\n",
    "    \n",
    "# Call the function\n",
    "is_isbn()"
   ]
  },
  {
   "cell_type": "code",
   "execution_count": 11,
   "metadata": {},
   "outputs": [],
   "source": [
    "def is_isbn():\n",
    "    isbn = '978-3-86226-468-5'\n",
    "    "
   ]
  },
  {
   "cell_type": "code",
   "execution_count": 12,
   "metadata": {},
   "outputs": [
    {
     "data": {
      "text/plain": [
       "18"
      ]
     },
     "execution_count": 12,
     "metadata": {},
     "output_type": "execute_result"
    }
   ],
   "source": [
    "len(\"Ein langer String!\")"
   ]
  },
  {
   "cell_type": "code",
   "execution_count": 14,
   "metadata": {},
   "outputs": [
    {
     "name": "stdout",
     "output_type": "stream",
     "text": [
      "Is an ISBN\n"
     ]
    }
   ],
   "source": [
    "def is_isbn():\n",
    "    isbn = \"978-3-86226-468-5\"\n",
    "    if len(isbn) == 17:\n",
    "        print(\"Is an ISBN\")\n",
    "    else:\n",
    "        print(\"Is not an ISBN\")\n",
    "\n",
    "is_isbn()"
   ]
  },
  {
   "cell_type": "code",
   "execution_count": 15,
   "metadata": {},
   "outputs": [
    {
     "name": "stdout",
     "output_type": "stream",
     "text": [
      "Is an ISBN\n"
     ]
    }
   ],
   "source": [
    "def is_isbn():\n",
    "    isbn = \"978-3-86226-468-5\"\n",
    "    if len(isbn) != 17:\n",
    "        print(\"Is not an ISBN\")\n",
    "    else:\n",
    "        print(\"Is an ISBN\")\n",
    "\n",
    "is_isbn()"
   ]
  },
  {
   "cell_type": "code",
   "execution_count": 16,
   "metadata": {},
   "outputs": [
    {
     "name": "stdout",
     "output_type": "stream",
     "text": [
      "The book is called 'Biology 101'.\n"
     ]
    }
   ],
   "source": [
    "# Detour - string & quote\n",
    "print(\"The book is called 'Biology 101'.\")"
   ]
  },
  {
   "cell_type": "code",
   "execution_count": 17,
   "metadata": {},
   "outputs": [
    {
     "name": "stdout",
     "output_type": "stream",
     "text": [
      "The book is called \"Biology 101\".\n"
     ]
    }
   ],
   "source": [
    "print('The book is called \"Biology 101\".')"
   ]
  },
  {
   "cell_type": "code",
   "execution_count": null,
   "metadata": {},
   "outputs": [],
   "source": [
    "def is_isbn():\n",
    "    isbn = \"978-3-86226-468-5\"\n",
    "    if len(isbn) != 17:\n",
    "        print(\"Is not an ISBN\")\n",
    "    else:\n",
    "        print(\"Is an ISBN\")\n",
    "\n",
    "is_isbn()"
   ]
  },
  {
   "cell_type": "code",
   "execution_count": 18,
   "metadata": {},
   "outputs": [
    {
     "ename": "TypeError",
     "evalue": "is_isbn() missing 1 required positional argument: 'isbn'",
     "output_type": "error",
     "traceback": [
      "\u001b[1;31m---------------------------------------------------------------------------\u001b[0m",
      "\u001b[1;31mTypeError\u001b[0m                                 Traceback (most recent call last)",
      "\u001b[1;32m<ipython-input-18-f449538a6a63>\u001b[0m in \u001b[0;36m<module>\u001b[1;34m\u001b[0m\n\u001b[0;32m      5\u001b[0m         \u001b[0mprint\u001b[0m\u001b[1;33m(\u001b[0m\u001b[1;34m\"Is an ISBN\"\u001b[0m\u001b[1;33m)\u001b[0m\u001b[1;33m\u001b[0m\u001b[1;33m\u001b[0m\u001b[0m\n\u001b[0;32m      6\u001b[0m \u001b[1;33m\u001b[0m\u001b[0m\n\u001b[1;32m----> 7\u001b[1;33m \u001b[0mis_isbn\u001b[0m\u001b[1;33m(\u001b[0m\u001b[1;33m)\u001b[0m\u001b[1;33m\u001b[0m\u001b[1;33m\u001b[0m\u001b[0m\n\u001b[0m",
      "\u001b[1;31mTypeError\u001b[0m: is_isbn() missing 1 required positional argument: 'isbn'"
     ]
    }
   ],
   "source": [
    "def is_isbn(isbn):\n",
    "    if len(isbn) != 17:\n",
    "        print(\"Is not an ISBN\")\n",
    "    else:\n",
    "        print(\"Is an ISBN\")\n",
    "\n",
    "is_isbn()"
   ]
  },
  {
   "cell_type": "code",
   "execution_count": 19,
   "metadata": {},
   "outputs": [
    {
     "name": "stdout",
     "output_type": "stream",
     "text": [
      "Is an ISBN\n"
     ]
    }
   ],
   "source": [
    "def is_isbn(isbn):\n",
    "    if len(isbn) != 17:\n",
    "        print(\"Is not an ISBN\")\n",
    "    else:\n",
    "        print(\"Is an ISBN\")\n",
    "\n",
    "is_isbn(\"978-3-86226-468-5\")"
   ]
  },
  {
   "cell_type": "code",
   "execution_count": 20,
   "metadata": {},
   "outputs": [
    {
     "name": "stdout",
     "output_type": "stream",
     "text": [
      "Is an ISBN\n",
      "Is not an ISBN\n"
     ]
    }
   ],
   "source": [
    "is_isbn(\"978-3-86226-468-5\")\n",
    "is_isbn(\"Blub\")"
   ]
  },
  {
   "cell_type": "code",
   "execution_count": 22,
   "metadata": {},
   "outputs": [
    {
     "data": {
      "text/plain": [
       "True"
      ]
     },
     "execution_count": 22,
     "metadata": {},
     "output_type": "execute_result"
    }
   ],
   "source": [
    "# Using return to return a value\n",
    "def is_isbn(isbn):\n",
    "    if len(isbn) != 17:\n",
    "        return False \n",
    "    else:\n",
    "        return True\n",
    "\n",
    "is_isbn(\"978-3-86226-468-5\")"
   ]
  },
  {
   "cell_type": "code",
   "execution_count": 23,
   "metadata": {},
   "outputs": [
    {
     "name": "stdout",
     "output_type": "stream",
     "text": [
      "This is a proper ISBN\n"
     ]
    }
   ],
   "source": [
    "# Storing the result of the function call in a variable\n",
    "result_of_isbn_check = is_isbn(\"978-3-86226-468-5\")\n",
    "if result_of_isbn_check:\n",
    "    print(\"This is a proper ISBN\")"
   ]
  },
  {
   "cell_type": "code",
   "execution_count": 25,
   "metadata": {},
   "outputs": [
    {
     "name": "stdout",
     "output_type": "stream",
     "text": [
      "This is a proper ISBN\n"
     ]
    }
   ],
   "source": [
    "if is_isbn(\"978-3-86226-468-5\"):\n",
    "    print(\"This is a proper ISBN\")"
   ]
  },
  {
   "cell_type": "code",
   "execution_count": 26,
   "metadata": {},
   "outputs": [],
   "source": [
    "if is_isbn(\"Blub\"):\n",
    "    print(\"This is a proper ISBN\")"
   ]
  },
  {
   "cell_type": "code",
   "execution_count": 27,
   "metadata": {},
   "outputs": [],
   "source": [
    "my_string = \"This is a great book.\""
   ]
  },
  {
   "cell_type": "code",
   "execution_count": 28,
   "metadata": {},
   "outputs": [
    {
     "data": {
      "text/plain": [
       "'THIS IS A GREAT BOOK.'"
      ]
     },
     "execution_count": 28,
     "metadata": {},
     "output_type": "execute_result"
    }
   ],
   "source": [
    "my_string.upper()"
   ]
  },
  {
   "cell_type": "code",
   "execution_count": 29,
   "metadata": {},
   "outputs": [
    {
     "data": {
      "text/plain": [
       "2"
      ]
     },
     "execution_count": 29,
     "metadata": {},
     "output_type": "execute_result"
    }
   ],
   "source": [
    "my_string.count(\"i\")"
   ]
  },
  {
   "cell_type": "code",
   "execution_count": 30,
   "metadata": {},
   "outputs": [
    {
     "data": {
      "text/plain": [
       "4"
      ]
     },
     "execution_count": 30,
     "metadata": {},
     "output_type": "execute_result"
    }
   ],
   "source": [
    "my_string.count(\" \")"
   ]
  },
  {
   "cell_type": "code",
   "execution_count": 31,
   "metadata": {},
   "outputs": [
    {
     "data": {
      "text/plain": [
       "1"
      ]
     },
     "execution_count": 31,
     "metadata": {},
     "output_type": "execute_result"
    }
   ],
   "source": [
    "my_string.count(\"oo\")"
   ]
  },
  {
   "cell_type": "code",
   "execution_count": 36,
   "metadata": {},
   "outputs": [
    {
     "data": {
      "text/plain": [
       "True"
      ]
     },
     "execution_count": 36,
     "metadata": {},
     "output_type": "execute_result"
    }
   ],
   "source": [
    "# Bedingung der vier Bindestriche einbauen \n",
    "def is_isbn(isbn):\n",
    "    if len(isbn) != 17 or isbn.count(\"-\") != 4:\n",
    "        return False \n",
    "    else:\n",
    "        return True\n",
    "\n",
    "is_isbn(\"978-3-86226-468-5\")"
   ]
  },
  {
   "cell_type": "code",
   "execution_count": 35,
   "metadata": {},
   "outputs": [
    {
     "data": {
      "text/plain": [
       "False"
      ]
     },
     "execution_count": 35,
     "metadata": {},
     "output_type": "execute_result"
    }
   ],
   "source": [
    "is_isbn(\"Blub\")"
   ]
  },
  {
   "cell_type": "code",
   "execution_count": 38,
   "metadata": {},
   "outputs": [
    {
     "data": {
      "text/plain": [
       "True"
      ]
     },
     "execution_count": 38,
     "metadata": {},
     "output_type": "execute_result"
    }
   ],
   "source": [
    "# Bedingung der vier Bindestriche einbauen - Lösung 2\n",
    "def is_isbn(isbn):\n",
    "    if len(isbn) == 17 and isbn.count(\"-\") == 4:\n",
    "        return True \n",
    "    else:\n",
    "        return False\n",
    "\n",
    "is_isbn(\"978-3-86226-468-5\")"
   ]
  },
  {
   "cell_type": "code",
   "execution_count": 39,
   "metadata": {},
   "outputs": [
    {
     "data": {
      "text/plain": [
       "False"
      ]
     },
     "execution_count": 39,
     "metadata": {},
     "output_type": "execute_result"
    }
   ],
   "source": [
    "is_isbn(\"9788-3-86226-468-5\")"
   ]
  },
  {
   "cell_type": "code",
   "execution_count": 40,
   "metadata": {},
   "outputs": [
    {
     "data": {
      "text/plain": [
       "False"
      ]
     },
     "execution_count": 40,
     "metadata": {},
     "output_type": "execute_result"
    }
   ],
   "source": [
    "is_isbn(\"978-3-86226-4685\")"
   ]
  },
  {
   "cell_type": "code",
   "execution_count": 42,
   "metadata": {},
   "outputs": [
    {
     "data": {
      "text/plain": [
       "True"
      ]
     },
     "execution_count": 42,
     "metadata": {},
     "output_type": "execute_result"
    }
   ],
   "source": [
    "# Bedingung der vier Bindestriche einbauen - Lösung 2\n",
    "def is_isbn(isbn):\n",
    "    if len(isbn) == 17 and isbn.count(\"-\") == 4:\n",
    "        return True \n",
    "    else:\n",
    "        return False\n",
    "\n",
    "is_isbn(\"978-3-86226-468-5\")"
   ]
  },
  {
   "cell_type": "code",
   "execution_count": 44,
   "metadata": {},
   "outputs": [
    {
     "data": {
      "text/plain": [
       "True"
      ]
     },
     "execution_count": 44,
     "metadata": {},
     "output_type": "execute_result"
    }
   ],
   "source": [
    "# Bedingung der vier Bindestriche einbauen - Herrn Förstners Lösung\n",
    "\n",
    "def is_isbn(isbn):\n",
    "    if isbn.count(\"-\") != 4:\n",
    "        return False\n",
    "    if len(isbn) != 17:\n",
    "        return False \n",
    "    return True\n",
    "\n",
    "is_isbn(\"978-3-86226-468-5\")"
   ]
  },
  {
   "cell_type": "code",
   "execution_count": 45,
   "metadata": {},
   "outputs": [
    {
     "name": "stdout",
     "output_type": "stream",
     "text": [
      "9\n",
      "7\n",
      "8\n",
      "-\n",
      "3\n",
      "-\n",
      "8\n",
      "6\n",
      "2\n",
      "2\n",
      "6\n",
      "-\n",
      "4\n",
      "6\n",
      "8\n",
      "-\n",
      "5\n"
     ]
    }
   ],
   "source": [
    "# Side note - string can be treated like lists\n",
    "for char in \"978-3-86226-468-5\":\n",
    "    print(char)"
   ]
  },
  {
   "cell_type": "code",
   "execution_count": 46,
   "metadata": {},
   "outputs": [
    {
     "data": {
      "text/plain": [
       "True"
      ]
     },
     "execution_count": 46,
     "metadata": {},
     "output_type": "execute_result"
    }
   ],
   "source": [
    "# Side note - check if character is a number\n",
    "\"4\".isdigit()"
   ]
  },
  {
   "cell_type": "code",
   "execution_count": 47,
   "metadata": {},
   "outputs": [
    {
     "data": {
      "text/plain": [
       "False"
      ]
     },
     "execution_count": 47,
     "metadata": {},
     "output_type": "execute_result"
    }
   ],
   "source": [
    "\"X\".isdigit()"
   ]
  },
  {
   "cell_type": "code",
   "execution_count": 48,
   "metadata": {},
   "outputs": [
    {
     "data": {
      "text/plain": [
       "True"
      ]
     },
     "execution_count": 48,
     "metadata": {},
     "output_type": "execute_result"
    }
   ],
   "source": [
    "# Side note \"not\"\n",
    "10 == 10"
   ]
  },
  {
   "cell_type": "code",
   "execution_count": 49,
   "metadata": {},
   "outputs": [
    {
     "data": {
      "text/plain": [
       "False"
      ]
     },
     "execution_count": 49,
     "metadata": {},
     "output_type": "execute_result"
    }
   ],
   "source": [
    "not 10 == 10"
   ]
  },
  {
   "cell_type": "code",
   "execution_count": 50,
   "metadata": {},
   "outputs": [
    {
     "data": {
      "text/plain": [
       "True"
      ]
     },
     "execution_count": 50,
     "metadata": {},
     "output_type": "execute_result"
    }
   ],
   "source": [
    "def is_isbn(isbn):\n",
    "    if isbn.count(\"-\") != 4:\n",
    "        return False\n",
    "    if len(isbn) != 17:\n",
    "        return False \n",
    "    for char in isbn:\n",
    "        if char == \"-\":\n",
    "            continue\n",
    "        if not char.isdigit():\n",
    "            return False\n",
    "    return True\n",
    "\n",
    "is_isbn(\"978-3-86226-468-5\")"
   ]
  },
  {
   "cell_type": "code",
   "execution_count": 51,
   "metadata": {},
   "outputs": [
    {
     "data": {
      "text/plain": [
       "False"
      ]
     },
     "execution_count": 51,
     "metadata": {},
     "output_type": "execute_result"
    }
   ],
   "source": [
    "is_isbn(\"978-3-86226-468-X\")"
   ]
  },
  {
   "cell_type": "code",
   "execution_count": 52,
   "metadata": {},
   "outputs": [
    {
     "name": "stdout",
     "output_type": "stream",
     "text": [
      "978-3-86226-468-5 True\n",
      "AB-423-2343 False\n",
      "978-3-XXXXX-468-5 False\n"
     ]
    }
   ],
   "source": [
    "for isbn in potential_isbns:\n",
    "    print(isbn, is_isbn(isbn))"
   ]
  },
  {
   "cell_type": "code",
   "execution_count": null,
   "metadata": {},
   "outputs": [],
   "source": []
  }
 ],
 "metadata": {
  "kernelspec": {
   "display_name": "Python 3",
   "language": "python",
   "name": "python3"
  },
  "language_info": {
   "codemirror_mode": {
    "name": "ipython",
    "version": 3
   },
   "file_extension": ".py",
   "mimetype": "text/x-python",
   "name": "python",
   "nbconvert_exporter": "python",
   "pygments_lexer": "ipython3",
   "version": "3.8.5"
  }
 },
 "nbformat": 4,
 "nbformat_minor": 4
}
